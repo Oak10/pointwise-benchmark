{
 "cells": [
  {
   "cell_type": "markdown",
   "metadata": {},
   "source": [
    "\n",
    "Density calculated based on the number of neighbors within a threshold distance (`threshold`) relative to the maximum possible neighbors (`k_max`).\n",
    "\n",
    "Data Agreement Component (local fit principle):\n",
    "  - It measures the agreement between the neighbors labels and the predicted label of the instance.\n",
    "\n",
    "ML Agreement Component:\n",
    "  - It measures the agreement between the neighbors' predictions and the instance's predicted label.\n"
   ]
  },
  {
   "cell_type": "code",
   "execution_count": null,
   "metadata": {},
   "outputs": [],
   "source": [
    "import joblib\n",
    "import pandas as pd\n",
    "import numpy as np\n",
    "import matplotlib.pyplot as plt\n",
    "from utils.embec_dens_localf import EmbecDensLocalF\n",
    "from utils.reliability_visualizer import ReliabilityVisualizer\n",
    "\n",
    "###########################################################\n",
    "# Load Classifier and Data\n",
    "###########################################################\n",
    "pipeline = joblib.load('pipeline_classifier.pkl')\n",
    "training_data = pd.read_csv(\"./data_train.csv\")\n",
    "\n",
    "y_train = training_data['SOURCE'].map({'out': 0, 'in': 1})\n",
    "X_train = training_data.drop(columns=['SOURCE'])\n",
    "\n",
    "# Preprocess training data\n",
    "X_train_preprocessed = pipeline.named_steps['preprocessor'].transform(X_train)"
   ]
  },
  {
   "cell_type": "code",
   "execution_count": null,
   "metadata": {},
   "outputs": [],
   "source": [
    "###########################################################\n",
    "# Threshold and k_max: 3.5_compute_thresholds.ipynb\n",
    "###########################################################\n",
    "threshold= 0.10723016075771301\n",
    "k_max= 9"
   ]
  },
  {
   "cell_type": "code",
   "execution_count": null,
   "metadata": {},
   "outputs": [],
   "source": [
    "###########################################################\n",
    "# Initialize EmbecDensLocalF\n",
    "###########################################################\n",
    "reliability_calculator = EmbecDensLocalF(\n",
    "    X_train=X_train_preprocessed,\n",
    "    y_train=y_train.values,\n",
    "    pipeline=pipeline,\n",
    "    k_max=k_max,\n",
    "    threshold=threshold\n",
    ")"
   ]
  },
  {
   "cell_type": "code",
   "execution_count": null,
   "metadata": {},
   "outputs": [],
   "source": [
    "###########################################################\n",
    "# Classification & Load and Test with Unseen Data\n",
    "###########################################################\n",
    "validation_data = pd.read_csv(\"./data_validation.csv\")\n",
    "validation_data['SOURCE'] = validation_data['SOURCE'].map({'out': 0, 'in': 1})\n",
    "\n",
    "# first_250_instances = validation_data.iloc[:250]\n",
    "\n",
    "results = []\n",
    "# for _, instance in first_250_instances.iterrows():\n",
    "for _, instance in validation_data.iterrows():\n",
    "    true_label = instance[\"SOURCE\"]\n",
    "    instance_df = pd.DataFrame([instance.drop(labels=[\"SOURCE\"])])\n",
    "    instance_preprocessed = pipeline.named_steps['preprocessor'].transform(instance_df)[0]\n",
    "    \n",
    "    reliability_score = reliability_calculator.compute_reliability(instance_preprocessed)\n",
    "    predicted_label = pipeline.named_steps[\"classifier\"].predict([instance_preprocessed])[0]\n",
    "    \n",
    "    results.append({\n",
    "        \"true_label\": true_label,\n",
    "        \"predicted_label\": predicted_label,\n",
    "        \"reliability_score\": reliability_score\n",
    "    })\n",
    "\n",
    "results_df = pd.DataFrame(results)"
   ]
  },
  {
   "cell_type": "code",
   "execution_count": null,
   "metadata": {},
   "outputs": [],
   "source": [
    "###########################################################\n",
    "# Results\n",
    "###########################################################\n",
    "visualizer = ReliabilityVisualizer(results_df=results_df)\n",
    "\n",
    "visualizer.plot_reliability_scores((20,7))"
   ]
  },
  {
   "cell_type": "code",
   "execution_count": null,
   "metadata": {},
   "outputs": [],
   "source": [
    "reliability_table_df = visualizer.get_reliability_table_5()\n",
    "print(reliability_table_df)"
   ]
  },
  {
   "cell_type": "code",
   "execution_count": null,
   "metadata": {},
   "outputs": [],
   "source": [
    "# high_reliability_cases = results_df[results_df['reliability_score'] > 0.95]\n",
    "# print(f\"Number of cases where reliability is higher than 0.9: {len(high_reliability_cases)}\")\n",
    "# print(high_reliability_cases)"
   ]
  },
  {
   "cell_type": "markdown",
   "metadata": {},
   "source": [
    "### 10"
   ]
  },
  {
   "cell_type": "code",
   "execution_count": null,
   "metadata": {},
   "outputs": [],
   "source": [
    "reliability_table_10_df = visualizer.get_reliability_table_10()\n",
    "print(reliability_table_10_df)"
   ]
  },
  {
   "cell_type": "code",
   "execution_count": null,
   "metadata": {},
   "outputs": [],
   "source": [
    "visualizer.plot_table_graph(reliability_table_10_df)"
   ]
  },
  {
   "cell_type": "code",
   "execution_count": null,
   "metadata": {},
   "outputs": [],
   "source": [
    "visualizer.plot_population_and_error_rate_by_class(reliability_table_10_df)"
   ]
  },
  {
   "cell_type": "code",
   "execution_count": null,
   "metadata": {},
   "outputs": [],
   "source": [
    "visualizer.plot_tsne_with_reliability(\n",
    "    X_train_preprocessed, validation_data, y_train, pipeline\n",
    ")"
   ]
  }
 ],
 "metadata": {
  "kernelspec": {
   "display_name": ".venv",
   "language": "python",
   "name": "python3"
  },
  "language_info": {
   "codemirror_mode": {
    "name": "ipython",
    "version": 3
   },
   "file_extension": ".py",
   "mimetype": "text/x-python",
   "name": "python",
   "nbconvert_exporter": "python",
   "pygments_lexer": "ipython3",
   "version": "3.12.3"
  }
 },
 "nbformat": 4,
 "nbformat_minor": 2
}
