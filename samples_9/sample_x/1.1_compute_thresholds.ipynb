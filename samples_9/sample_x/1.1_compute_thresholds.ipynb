{
 "cells": [
  {
   "cell_type": "code",
   "execution_count": null,
   "metadata": {},
   "outputs": [],
   "source": [
    "import joblib\n",
    "import pandas as pd\n",
    "import numpy as np\n",
    "import matplotlib.pyplot as plt\n",
    "\n",
    "###########################################################\n",
    "# Load Classifier and Data\n",
    "###########################################################\n",
    "pipeline = joblib.load('pipeline_classifier.pkl')\n",
    "training_data = pd.read_csv(\"./data_train.csv\")\n",
    "\n",
    "y_train = training_data['SOURCE'].map({'out': 0, 'in': 1})\n",
    "X_train = training_data.drop(columns=['SOURCE'])\n",
    "\n",
    "# Preprocess training data\n",
    "X_train_preprocessed = pipeline.named_steps['preprocessor'].transform(X_train)"
   ]
  },
  {
   "cell_type": "code",
   "execution_count": null,
   "metadata": {},
   "outputs": [],
   "source": [
    "###########################################################\n",
    "# Compute Threshold and k_max\n",
    "###########################################################\n",
    "def compute_threshold_and_kmax(X_train, threshold_percentile=5):\n",
    "    \"\"\"\n",
    "    Compute the threshold and k_max based on training distances\n",
    "    - X_train: The training feature matrix (normalized).\n",
    "    - threshold_percentile: Percentile for the distance threshold.\n",
    "\n",
    "    Returns:\n",
    "    - threshold: The distance threshold for neighbors.\n",
    "    - k_max: The maximum number of neighbors within the threshold.\n",
    "    - upper_triangle: Array of unique pairwise distances.\n",
    "    \"\"\"\n",
    "    # Compute pairwise distances\n",
    "    distances = np.linalg.norm(X_train[:, np.newaxis] - X_train, axis=2)\n",
    "    upper_triangle = distances[np.triu_indices(distances.shape[0], k=1)]  # Unique pairwise distances\n",
    "    threshold = np.percentile(upper_triangle, threshold_percentile)\n",
    "\n",
    "    # Compute k_max (average number of neighbors within the threshold)\n",
    "    neighbors_within_threshold = np.sum(distances < threshold, axis=1) - 1\n",
    "    k_max = int(np.mean(neighbors_within_threshold))\n",
    "\n",
    "    return threshold, k_max, upper_triangle\n",
    "\n",
    "\n",
    "###########################################################\n",
    "# Visualization\n",
    "###########################################################\n",
    "def plot_distance_distribution(pairwise_distances, threshold):\n",
    "    \"\"\"\n",
    "    Plot the distribution of pairwise distances with a threshold line.\n",
    "\n",
    "    Parameters:\n",
    "    - pairwise_distances: 1D array of unique pairwise distances.\n",
    "    - threshold: Distance threshold.\n",
    "    \"\"\"\n",
    "    plt.figure(figsize=(10, 6))\n",
    "    plt.hist(pairwise_distances, bins=50, color='skyblue', edgecolor='black', alpha=0.7)\n",
    "    plt.axvline(threshold, color='red', linestyle='dashed', linewidth=2, label=f'Threshold: {threshold:.2f}')\n",
    "    plt.title(\"Distribution of Pairwise Distances\")\n",
    "    plt.xlabel(\"Distance\")\n",
    "    plt.ylabel(\"Frequency\")\n",
    "    plt.legend()\n",
    "    plt.show()\n",
    "\n",
    "\n",
    "def print_percentiles(pairwise_distances, percentiles):\n",
    "    percentile_values = {f\"{p}th\": np.percentile(pairwise_distances, p) for p in percentiles}\n",
    "    print(\"Percentiles of Pairwise Distances:\")\n",
    "    for key, value in percentile_values.items():\n",
    "        print(f\"{key}: {value:.4f}\")\n",
    "    return percentile_values"
   ]
  },
  {
   "cell_type": "code",
   "execution_count": null,
   "metadata": {},
   "outputs": [],
   "source": [
    "###########################################################\n",
    "# Execution\n",
    "###########################################################\n",
    "\n",
    "# Compute threshold and k_max\n",
    "threshold, k_max, pairwise_distances = compute_threshold_and_kmax(X_train_preprocessed, threshold_percentile=5)\n",
    "\n",
    "# Print the computed threshold and k_max\n",
    "print(f\"Computed Threshold: {threshold:.4f}\")\n",
    "print(f\"Computed k_max: {k_max}\")\n",
    "\n",
    "# Print percentiles\n",
    "percentiles_to_compute = [0.5, 0.75, 1, 1.5, 2, 2.5, 3, 3.5, 4, 4.5, 5, 7.5, 10, 25, 50, 75, 90]\n",
    "percentile_values = print_percentiles(pairwise_distances, percentiles_to_compute)"
   ]
  },
  {
   "cell_type": "code",
   "execution_count": null,
   "metadata": {},
   "outputs": [],
   "source": [
    "threshold, k_max, pairwise_distances = compute_threshold_and_kmax(X_train_preprocessed, .1)\n",
    "print(f\"Threshold: {threshold}, k_max: {k_max}\")\n",
    "\n",
    "# Plot the distance distribution\n",
    "plot_distance_distribution(pairwise_distances, threshold)"
   ]
  },
  {
   "cell_type": "code",
   "execution_count": null,
   "metadata": {},
   "outputs": [],
   "source": [
    "threshold, k_max, pairwise_distances = compute_threshold_and_kmax(X_train_preprocessed, .25)\n",
    "print(f\"Threshold: {threshold}, k_max: {k_max}\")\n",
    "\n",
    "# Plot the distance distribution\n",
    "plot_distance_distribution(pairwise_distances, threshold)"
   ]
  },
  {
   "cell_type": "code",
   "execution_count": null,
   "metadata": {},
   "outputs": [],
   "source": [
    "threshold, k_max, pairwise_distances = compute_threshold_and_kmax(X_train_preprocessed, .5)\n",
    "print(f\"Threshold: {threshold}, k_max: {k_max}\")\n",
    "\n",
    "# Plot the distance distribution\n",
    "plot_distance_distribution(pairwise_distances, threshold)"
   ]
  },
  {
   "cell_type": "code",
   "execution_count": null,
   "metadata": {},
   "outputs": [],
   "source": [
    "threshold, k_max, pairwise_distances = compute_threshold_and_kmax(X_train_preprocessed, .75)\n",
    "print(f\"Threshold: {threshold}, k_max: {k_max}\")\n",
    "\n",
    "# Plot the distance distribution\n",
    "plot_distance_distribution(pairwise_distances, threshold)"
   ]
  },
  {
   "cell_type": "code",
   "execution_count": null,
   "metadata": {},
   "outputs": [],
   "source": [
    "threshold, k_max, pairwise_distances = compute_threshold_and_kmax(X_train_preprocessed, 1)\n",
    "print(f\"Threshold: {threshold}, k_max: {k_max}\")\n",
    "\n",
    "# Plot the distance distribution\n",
    "plot_distance_distribution(pairwise_distances, threshold)"
   ]
  }
 ],
 "metadata": {
  "kernelspec": {
   "display_name": ".venv",
   "language": "python",
   "name": "python3"
  },
  "language_info": {
   "codemirror_mode": {
    "name": "ipython",
    "version": 3
   },
   "file_extension": ".py",
   "mimetype": "text/x-python",
   "name": "python",
   "nbconvert_exporter": "python",
   "pygments_lexer": "ipython3",
   "version": "3.12.3"
  }
 },
 "nbformat": 4,
 "nbformat_minor": 2
}
