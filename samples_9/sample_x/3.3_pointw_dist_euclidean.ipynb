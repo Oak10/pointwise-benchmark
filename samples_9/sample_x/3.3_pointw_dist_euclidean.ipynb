{
 "cells": [
  {
   "cell_type": "markdown",
   "metadata": {},
   "source": [
    "# Pointwise Reliability: Density, Distance - Euclidean\n",
    "Uses distances between a new instance and all preprocessed training points to assess reliability\n",
    "\n",
    "## Workflow:\n",
    "- Calculate the Euclidean distances from the instance to all points in the training data\n",
    "- Identify points in the training set that belong to the same class as the predicted label for the new instance\n",
    "- Count how many of these points are within a defined `distance_threshold` of the new instance (`same_label_points`)\n",
    "- Compute reliability:\n",
    "  - reliability=  `same_label_points` / `minimum_cluster_units`\n",
    "    - `minimum_cluster_units` <- param \n",
    "    - If the `same_label_points` size is larger than the threshold (minimum units): reliability = 1"
   ]
  },
  {
   "cell_type": "code",
   "execution_count": null,
   "metadata": {},
   "outputs": [],
   "source": [
    "import numpy as np\n",
    "import pandas as pd\n",
    "import matplotlib.pyplot as plt\n",
    "import joblib\n",
    "from sklearn.neighbors import NearestNeighbors\n",
    "from utils.reliability_visualizer import ReliabilityVisualizer\n",
    "\n",
    "###########################################################\n",
    "# Load Classifier and Data\n",
    "###########################################################\n",
    "pipeline = joblib.load('pipeline_classifier.pkl')\n",
    "training_data = pd.read_csv(\"./data_train.csv\")\n",
    "\n",
    "X_train = training_data.drop(columns=['SOURCE'])\n",
    "y_train = training_data['SOURCE'].map({'out': 0, 'in': 1})\n",
    "X_train_preprocessed = pipeline.named_steps['preprocessor'].transform(X_train)"
   ]
  },
  {
   "cell_type": "code",
   "execution_count": null,
   "metadata": {},
   "outputs": [],
   "source": [
    "###########################################################\n",
    "# Reliability Calculation (Density - Distance: Euclidean)\n",
    "###########################################################\n",
    "def reliability_distance_based(new_instance, X_train_preprocessed, y_train, predicted_label, distance_threshold=0.10, target_instances=20):\n",
    "    \"\"\"\n",
    "    Calculate the reliability based on euclidean distance and min. number of neighbors\n",
    "\n",
    "    Reliability = \n",
    "        if (neighbors_new_instance < target_instances) \n",
    "            neighbors_new_instance / target_instances  \n",
    "        else\n",
    "            1\n",
    "\n",
    "    Parameters:\n",
    "    - new_instance: Preprocessed new instance.\n",
    "    - X_train_preprocessed: Preprocessed training data.\n",
    "    - y_train: Training labels.\n",
    "    - predicted_label: Predicted class label of the new instance.\n",
    "    - distance_threshold: The distance threshold for considering neighbors.\n",
    "    - target_instances: Number of instances for full reliability.\n",
    "\n",
    "    Returns:\n",
    "    - reliability_score: [0; 1] reliability.\n",
    "    \"\"\"\n",
    "    distances = np.linalg.norm(X_train_preprocessed - new_instance, axis=1)\n",
    "    \n",
    "    same_class_neighbors = (y_train == predicted_label)\n",
    "    close_neighbors = np.sum((distances <= distance_threshold) & same_class_neighbors)\n",
    "    \n",
    "    reliability_score = min(close_neighbors / target_instances, 1.0)\n",
    "    return reliability_score"
   ]
  },
  {
   "cell_type": "code",
   "execution_count": null,
   "metadata": {},
   "outputs": [],
   "source": [
    "###########################################################\n",
    "# Classification and Reliability\n",
    "###########################################################\n",
    "def classify_and_check_reliability(new_data, pipeline, X_train_preprocessed, y_train, distance_threshold=0.10, target_instances=20):\n",
    "    \"\"\"\n",
    "    Predicts the class and assesses reliability of a new instance.\n",
    "\n",
    "    Parameters:\n",
    "    - new_data (pd.DataFrame): DataFrame with the same columns as training data.\n",
    "    - pipeline (Pipeline): The loaded pipeline for preprocessing and classification.\n",
    "    - X_train_preprocessed: Preprocessed training data.\n",
    "    - y_train: Training labels.\n",
    "    - distance_threshold: The distance threshold for considering neighbors.\n",
    "    - target_instances: The number of instances required for full reliability.\n",
    "\n",
    "    Returns:\n",
    "    - dict: Contains prediction and reliability score.\n",
    "    \"\"\"\n",
    "\n",
    "    # Preprocess & Predict\n",
    "    new_data_preprocessed = pipeline.named_steps['preprocessor'].transform(new_data)    \n",
    "    predicted_label = pipeline.named_steps['classifier'].predict(new_data_preprocessed)[0]\n",
    "    \n",
    "    # Calculate reliability\n",
    "    reliability_score = reliability_distance_based(\n",
    "        new_data_preprocessed[0],\n",
    "        X_train_preprocessed,\n",
    "        y_train,\n",
    "        predicted_label,\n",
    "        distance_threshold,\n",
    "        target_instances\n",
    "    )\n",
    "    \n",
    "    return {\n",
    "        \"predicted_label\": predicted_label,\n",
    "        \"reliability_score\": reliability_score\n",
    "    }"
   ]
  },
  {
   "cell_type": "code",
   "execution_count": null,
   "metadata": {},
   "outputs": [],
   "source": [
    "###########################################################\n",
    "#  Load and Test with Unseen Data\n",
    "###########################################################\n",
    "validation_data = pd.read_csv(\"./data_validation.csv\")\n",
    "validation_data['SOURCE'] = validation_data['SOURCE'].map({'out': 0, 'in': 1})\n",
    "results = []\n",
    "\n",
    "##############\n",
    "### Adjust\n",
    "\n",
    "distance_threshold = 0.10723016075771301\n",
    "target_instances = 9\n",
    "\n",
    "for _, instance in validation_data.iterrows():\n",
    "    true_label = instance['SOURCE']\n",
    "    instance_df = pd.DataFrame([instance.drop(labels=['SOURCE'])])\n",
    "    result = classify_and_check_reliability(\n",
    "        instance_df,\n",
    "        pipeline,\n",
    "        X_train_preprocessed,\n",
    "        y_train,\n",
    "        distance_threshold=distance_threshold,\n",
    "        target_instances=target_instances\n",
    "    )\n",
    "    result['true_label'] = true_label\n",
    "    results.append(result)"
   ]
  },
  {
   "cell_type": "code",
   "execution_count": null,
   "metadata": {},
   "outputs": [],
   "source": [
    "###########################################################\n",
    "# Results\n",
    "###########################################################\n",
    "results_df = pd.DataFrame(results)\n",
    "\n",
    "visualizer = ReliabilityVisualizer(results_df=results_df)\n",
    "visualizer.plot_reliability_scores((20, 7))"
   ]
  },
  {
   "cell_type": "markdown",
   "metadata": {},
   "source": [
    "### 10"
   ]
  },
  {
   "cell_type": "code",
   "execution_count": null,
   "metadata": {},
   "outputs": [],
   "source": [
    "reliability_table_10_df = visualizer.get_reliability_table_10()\n",
    "print(reliability_table_10_df)"
   ]
  },
  {
   "cell_type": "code",
   "execution_count": null,
   "metadata": {},
   "outputs": [],
   "source": [
    "visualizer.plot_table_graph(reliability_table_10_df)"
   ]
  },
  {
   "cell_type": "code",
   "execution_count": null,
   "metadata": {},
   "outputs": [],
   "source": [
    "visualizer.plot_population_and_error_rate_by_class(reliability_table_10_df)"
   ]
  },
  {
   "cell_type": "code",
   "execution_count": null,
   "metadata": {},
   "outputs": [],
   "source": [
    "visualizer.plot_tsne_with_reliability(\n",
    "    X_train_preprocessed, validation_data, y_train, pipeline\n",
    ")"
   ]
  }
 ],
 "metadata": {
  "kernelspec": {
   "display_name": ".venv",
   "language": "python",
   "name": "python3"
  },
  "language_info": {
   "codemirror_mode": {
    "name": "ipython",
    "version": 3
   },
   "file_extension": ".py",
   "mimetype": "text/x-python",
   "name": "python",
   "nbconvert_exporter": "python",
   "pygments_lexer": "ipython3",
   "version": "3.12.3"
  }
 },
 "nbformat": 4,
 "nbformat_minor": 2
}
