{
 "cells": [
  {
   "cell_type": "code",
   "execution_count": null,
   "metadata": {},
   "outputs": [],
   "source": [
    "import os\n",
    "from sklearn.model_selection import train_test_split\n",
    "import pandas as pd\n",
    "import matplotlib.pyplot as plt\n",
    "import seaborn as sns\n",
    "\n",
    "def create_boxplots_from_df(df):\n",
    "    num_cols = 2\n",
    "    num_features = df.shape[1]\n",
    "    num_rows = (num_features + 1) // num_cols\n",
    "    fig, axs = plt.subplots(num_rows, num_cols, figsize=(12, 10))\n",
    "    axs = axs.flatten()\n",
    "    for i, feature in enumerate(df.columns):\n",
    "        sns.boxplot(x=df[feature], ax=axs[i]) \n",
    "        axs[i].set_title(\"Boxplot of \" + feature)\n",
    "    for i in range(num_features, num_rows * num_cols):\n",
    "        fig.delaxes(axs[i])\n",
    "    plt.tight_layout()\n",
    "    plt.show()\n",
    "\n",
    "def show_countplots_by_target(df, columns, target_column_name):\n",
    "    num_cols = 2\n",
    "    num_features = len(columns)\n",
    "    num_rows = (num_features + 1) // num_cols\n",
    "    num_cols = 2\n",
    "    fig, axs = plt.subplots(num_rows, num_cols, figsize=(12, 10))\n",
    "    axs = axs.flatten()\n",
    "    # Use a for loop to loop over each feature and create a countplot\n",
    "    for i, feature in enumerate(columns):\n",
    "        sns.countplot(x=feature, data=df, hue=target_column_name, ax=axs[i])\n",
    "        axs[i].set_title(f\"Countplot of {feature} by {target_column_name}\")\n",
    "        axs[i].set_ylabel('')\n",
    "    for i in range(num_features, num_rows * num_cols):\n",
    "        fig.delaxes(axs[i])\n",
    "    plt.tight_layout()\n",
    "    plt.show()"
   ]
  },
  {
   "cell_type": "code",
   "execution_count": null,
   "metadata": {},
   "outputs": [],
   "source": [
    "if not os.path.exists(\"./data_validation.csv\"):\n",
    "    data_frame = pd.read_csv(\"../../dataset/data-ori.csv\")\n",
    "    df_train, df_validation = train_test_split(\n",
    "        data_frame,\n",
    "        test_size=0.10,\n",
    "        stratify=data_frame['SOURCE'],\n",
    "    )\n",
    "    \n",
    "    df_train.to_csv(\"./data_train.csv\", index=False)\n",
    "    df_validation.to_csv(\"./data_validation.csv\", index=False)"
   ]
  },
  {
   "cell_type": "code",
   "execution_count": null,
   "metadata": {},
   "outputs": [],
   "source": [
    "df_numerical=df_validation.loc[:,['HAEMATOCRIT', 'HAEMOGLOBINS', 'ERYTHROCYTE', 'LEUCOCYTE', 'THROMBOCYTE', 'MCH', 'MCHC', 'MCV', 'AGE']]\n",
    "df_categorical=df_validation.loc[:,['SEX','SOURCE']]\n",
    "\n",
    "print(\"Data set shape: \",df_validation.shape)\n",
    "print(\"Number of Duplicates: \",df_validation.duplicated().sum())\n",
    "print(\"Nmber of NaN:\", df_validation.isna().sum().sum())\n",
    "print(\"\\nData Info:\")\n",
    "df_validation.info()\n",
    "print(\"\\nData Head:\")\n",
    "df_validation.head()"
   ]
  },
  {
   "cell_type": "code",
   "execution_count": null,
   "metadata": {},
   "outputs": [],
   "source": [
    "df_validation.nunique().to_frame('Unqiue Values')"
   ]
  },
  {
   "cell_type": "code",
   "execution_count": null,
   "metadata": {},
   "outputs": [],
   "source": [
    "show_countplots_by_target(df_categorical, df_categorical.columns, \"SOURCE\")"
   ]
  },
  {
   "cell_type": "code",
   "execution_count": null,
   "metadata": {},
   "outputs": [],
   "source": [
    "df_numerical.describe().T"
   ]
  },
  {
   "cell_type": "code",
   "execution_count": null,
   "metadata": {},
   "outputs": [],
   "source": [
    "df_numerical.hist(bins=30, figsize=(20,15))"
   ]
  },
  {
   "cell_type": "code",
   "execution_count": null,
   "metadata": {},
   "outputs": [],
   "source": [
    "create_boxplots_from_df(df_numerical)"
   ]
  },
  {
   "cell_type": "code",
   "execution_count": null,
   "metadata": {},
   "outputs": [],
   "source": [
    "sns.pairplot(df_validation, hue='SOURCE')"
   ]
  },
  {
   "cell_type": "code",
   "execution_count": null,
   "metadata": {},
   "outputs": [],
   "source": [
    "numerical_correlation_mt = df_numerical.corr()\n",
    "numerical_correlation_mt"
   ]
  },
  {
   "cell_type": "code",
   "execution_count": null,
   "metadata": {},
   "outputs": [],
   "source": [
    "sns.countplot(x=df_validation['SOURCE'])\n",
    "plt.title(\"Distribution of SOURCE (In vs Out)\")\n",
    "plt.xlabel(\"SOURCE\")\n",
    "plt.ylabel(\"Count\")\n",
    "plt.show()"
   ]
  },
  {
   "cell_type": "code",
   "execution_count": null,
   "metadata": {},
   "outputs": [],
   "source": [
    "source_counts = df_validation['SOURCE'].value_counts()\n",
    "source_proportions = df_validation['SOURCE'].value_counts(normalize=True)\n",
    "print(\"Counts of 'SOURCE':\\n\", source_counts)\n",
    "print(\"\\nProportions of 'SOURCE':\\n\", source_proportions)"
   ]
  }
 ],
 "metadata": {
  "kernelspec": {
   "display_name": ".venv",
   "language": "python",
   "name": "python3"
  },
  "language_info": {
   "codemirror_mode": {
    "name": "ipython",
    "version": 3
   },
   "file_extension": ".py",
   "mimetype": "text/x-python",
   "name": "python",
   "nbconvert_exporter": "python",
   "pygments_lexer": "ipython3",
   "version": "3.12.3"
  }
 },
 "nbformat": 4,
 "nbformat_minor": 2
}
