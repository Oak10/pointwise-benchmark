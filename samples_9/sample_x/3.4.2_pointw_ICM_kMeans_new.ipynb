{
 "cells": [
  {
   "cell_type": "code",
   "execution_count": null,
   "metadata": {},
   "outputs": [],
   "source": [
    "import joblib\n",
    "import pandas as pd\n",
    "import numpy as np\n",
    "import matplotlib.pyplot as plt\n",
    "from utils.icm_framework_v2 import ICMFrameworkV2\n",
    "from utils.reliability_visualizer import ReliabilityVisualizer\n",
    "\n",
    "###########################################################\n",
    "# Load Classifier and Data\n",
    "###########################################################\n",
    "pipeline = joblib.load('pipeline_classifier.pkl')\n",
    "training_data = pd.read_csv(\"./data_train.csv\")\n",
    "\n",
    "y_train = training_data['SOURCE'].map({'out': 0, 'in': 1})\n",
    "X_train = training_data.drop(columns=['SOURCE'])\n",
    "\n",
    "X_train_preprocessed = pipeline.named_steps['preprocessor'].transform(X_train)"
   ]
  },
  {
   "cell_type": "code",
   "execution_count": null,
   "metadata": {},
   "outputs": [],
   "source": [
    "###########################################################\n",
    "# Initialize ICM (Interpretable Confidence Measures)\n",
    "###########################################################\n",
    "##################3 \n",
    "### Adjust\n",
    "k_neighbors = 9  # Number of nearest neighbors\n",
    "icm = ICMFrameworkV2(X_train_preprocessed, y_train.values, k_neighbors=k_neighbors)"
   ]
  },
  {
   "cell_type": "code",
   "execution_count": null,
   "metadata": {},
   "outputs": [],
   "source": [
    "###########################################################\n",
    "# Classification and Reliability\n",
    "###########################################################\n",
    "def classify_and_calculate_reliability_icm(new_data, pipeline, icm):\n",
    "    \"\"\"\n",
    "    Predicts the class and calculates a reliability score for a new instance using ICM Framework.\n",
    "\n",
    "    Parameters:\n",
    "    - new_data (pd.DataFrame): DataFrame with the same columns as training data.\n",
    "    - pipeline (Pipeline): The loaded pipeline for preprocessing and classification.\n",
    "    - icm (ICMFramework): Instance of the ICMFramework initialized with training data and labels.\n",
    "\n",
    "    Returns:\n",
    "    - dict: Contains prediction, reliability score, and neighbors used.\n",
    "    \"\"\"\n",
    "    # Preprocess the data\n",
    "    new_data_preprocessed = pipeline.named_steps['preprocessor'].transform(new_data)\n",
    "    \n",
    "    # Predict the label\n",
    "    predicted_label = pipeline.named_steps['classifier'].predict(new_data_preprocessed)[0]\n",
    "    \n",
    "    # Compute the reliability score\n",
    "    reliability_score = icm.compute_confidence(new_data_preprocessed[0], predicted_label)\n",
    "    \n",
    "    return {\n",
    "        \"predicted_label\": predicted_label,\n",
    "        \"reliability_score\": reliability_score\n",
    "    }"
   ]
  },
  {
   "cell_type": "code",
   "execution_count": null,
   "metadata": {},
   "outputs": [],
   "source": [
    "###########################################################\n",
    "# Load and Test with Unseen Data\n",
    "###########################################################\n",
    "validation_data = pd.read_csv(\"./data_validation.csv\")\n",
    "validation_data['SOURCE'] = validation_data['SOURCE'].map({'out': 0, 'in': 1})\n",
    "# first_500_instances = validation_data.iloc[:500]\n",
    "\n",
    "results = []\n",
    "# for _, instance in first_500_instances.iterrows():\n",
    "for _, instance in validation_data.iterrows():\n",
    "    true_label = instance['SOURCE']\n",
    "    instance_df = pd.DataFrame([instance.drop(labels=['SOURCE'])])\n",
    "    result = classify_and_calculate_reliability_icm(\n",
    "        instance_df,\n",
    "        pipeline,\n",
    "        icm\n",
    "    )\n",
    "    result['true_label'] = true_label\n",
    "    results.append(result)\n",
    "\n",
    "results_df = pd.DataFrame(results)\n",
    "# results_df"
   ]
  },
  {
   "cell_type": "code",
   "execution_count": null,
   "metadata": {},
   "outputs": [],
   "source": [
    "###########################################################\n",
    "# Results\n",
    "###########################################################\n",
    "visualizer = ReliabilityVisualizer(results_df=results_df)\n",
    "\n",
    "visualizer.plot_reliability_scores((20,7))"
   ]
  },
  {
   "cell_type": "markdown",
   "metadata": {},
   "source": [
    "### 10"
   ]
  },
  {
   "cell_type": "code",
   "execution_count": null,
   "metadata": {},
   "outputs": [],
   "source": [
    "reliability_table_10_df = visualizer.get_reliability_table_10()\n",
    "print(reliability_table_10_df)"
   ]
  },
  {
   "cell_type": "code",
   "execution_count": null,
   "metadata": {},
   "outputs": [],
   "source": [
    "visualizer.plot_table_graph(reliability_table_10_df)"
   ]
  },
  {
   "cell_type": "code",
   "execution_count": null,
   "metadata": {},
   "outputs": [],
   "source": [
    "visualizer.plot_population_and_error_rate_by_class(reliability_table_10_df)"
   ]
  },
  {
   "cell_type": "code",
   "execution_count": null,
   "metadata": {},
   "outputs": [],
   "source": [
    "visualizer.plot_tsne_with_reliability(\n",
    "    X_train_preprocessed, validation_data, y_train, pipeline\n",
    ")"
   ]
  }
 ],
 "metadata": {
  "kernelspec": {
   "display_name": ".venv",
   "language": "python",
   "name": "python3"
  },
  "language_info": {
   "codemirror_mode": {
    "name": "ipython",
    "version": 3
   },
   "file_extension": ".py",
   "mimetype": "text/x-python",
   "name": "python",
   "nbconvert_exporter": "python",
   "pygments_lexer": "ipython3",
   "version": "3.12.3"
  }
 },
 "nbformat": 4,
 "nbformat_minor": 2
}
